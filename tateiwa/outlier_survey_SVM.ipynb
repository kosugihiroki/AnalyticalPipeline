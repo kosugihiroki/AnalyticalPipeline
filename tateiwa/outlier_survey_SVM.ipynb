{
 "cells": [
  {
   "cell_type": "code",
   "execution_count": 2,
   "metadata": {},
   "outputs": [],
   "source": [
    "import glob\n",
    "import warnings\n",
    "import time\n",
    "import sys\n",
    "import datetime\n",
    "from dateutil.relativedelta import relativedelta\n",
    "\n",
    "import numpy as np\n",
    "import pandas as pd\n",
    "import matplotlib.pyplot as plt\n",
    "\n",
    "from imblearn.over_sampling import SMOTE\n",
    "from sklearn.model_selection import train_test_split\n",
    "from sklearn.svm import SVC\n",
    "from sklearn.metrics import classification_report, accuracy_score, confusion_matrix\n",
    "from sklearn.preprocessing import StandardScaler\n",
    "import seaborn as sns\n",
    "\n",
    "\n",
    "\n",
    "warnings.simplefilter(action='ignore', category=FutureWarning)"
   ]
  },
  {
   "cell_type": "code",
   "execution_count": 14,
   "metadata": {},
   "outputs": [],
   "source": [
    "train_raw = pd.read_csv('data/processed/processed20240621_train.csv', parse_dates=['first_active_month'])\n",
    "test_raw = pd.read_csv('data/processed/processed20240621_test.csv', parse_dates=['first_active_month'])\n",
    "reference = datetime.datetime(2000, 1, 1)\n",
    "train_raw[\"first_active_month\"] = (train_raw[\"first_active_month\"] - reference).dt.days\n",
    "test_raw[\"first_active_month\"] = (test_raw[\"first_active_month\"] - reference).dt.days\n",
    "test_all = test_raw.copy()"
   ]
  },
  {
   "cell_type": "code",
   "execution_count": 15,
   "metadata": {},
   "outputs": [
    {
     "name": "stdout",
     "output_type": "stream",
     "text": [
      "Columns with infinity: Index(['rate_new/hist_month_diff_mean'], dtype='object')\n"
     ]
    }
   ],
   "source": [
    "columns_with_inf = train_raw.columns[train_raw.apply(lambda x: x.isin([np.inf, -np.inf]).any())]\n",
    "print(\"Columns with infinity:\", columns_with_inf)\n",
    "train_raw = train_raw.drop(columns_with_inf, axis=1)\n",
    "test_all = test_all.drop(columns_with_inf, axis=1)"
   ]
  },
  {
   "cell_type": "code",
   "execution_count": 16,
   "metadata": {},
   "outputs": [],
   "source": [
    "train_test_raw = pd.concat([train_raw, test_all], axis=0)\n",
    "train_test_raw = train_test_raw.fillna(train_test_raw.median(numeric_only=True))\n",
    "train_raw = train_test_raw.iloc[:len(train_raw)]\n",
    "test_all = train_test_raw.iloc[len(train_raw):]"
   ]
  },
  {
   "cell_type": "code",
   "execution_count": 17,
   "metadata": {},
   "outputs": [
    {
     "name": "stdout",
     "output_type": "stream",
     "text": [
      "199710 2207\n"
     ]
    }
   ],
   "source": [
    "outlier_card_id = train_raw[train_raw[\"target\"] < -30][\"card_id\"]\n",
    "normal_card_id = train_raw[train_raw[\"target\"] >= -30][\"card_id\"]\n",
    "train_normal = pd.merge(normal_card_id,\n",
    "                        train_raw,\n",
    "                        on=\"card_id\",\n",
    "                        how=\"inner\")\n",
    "train_outlier = pd.merge(outlier_card_id,\n",
    "                         train_raw,\n",
    "                         on=\"card_id\",\n",
    "                         how=\"inner\")\n",
    "print(len(train_normal[\"card_id\"]), len(train_outlier[\"card_id\"]))"
   ]
  },
  {
   "cell_type": "code",
   "execution_count": 18,
   "metadata": {},
   "outputs": [],
   "source": [
    "train_normal_tmp = train_normal.drop(['card_id', 'target'], axis=1)\n",
    "train_outlier_tmp = train_outlier.drop(['card_id', 'target'], axis=1)\n",
    "train_all_tmp = train_raw.drop(['card_id', 'target'], axis=1)\n",
    "test_all_tmp = test_all.drop(['card_id', 'target'], axis=1)\n",
    "\n",
    "# 2クラス分類を行うために、train_normal_tmpとtrain_outlier_tmpを結合してデータセットを作成します\n",
    "# train_normal_tmpにはクラスラベル0、train_outlier_tmpにはクラスラベル1を付与します\n",
    "train_normal_tmp['Class'] = 0\n",
    "train_outlier_tmp['Class'] = 1\n",
    "dataset = pd.concat([train_normal_tmp, train_outlier_tmp], ignore_index=True)\n",
    "\n",
    "# 特徴量とクラスラベルに分割\n",
    "X = dataset.drop('Class', axis=1)\n",
    "y = dataset['Class']\n",
    "\n",
    "# データを訓練用とテスト用に分割\n",
    "X_train, X_test, y_train, y_test = train_test_split(X, y, test_size=0.2, random_state=0)\n",
    "\n",
    "# Over Sampling\n",
    "#smote = SMOTE(random_state=0)\n",
    "#X_train, y_train = smote.fit_resample(X_train, y_train)\n",
    "\n",
    "# データの標準化\n",
    "scaler = StandardScaler()\n",
    "scaler.fit(X_train)\n",
    "\n",
    "X_train_scaled = pd.DataFrame(scaler.transform(X_train), columns=X_train.columns)\n",
    "X_test_scaled = pd.DataFrame(scaler.transform(X_test), columns=X_test.columns)\n",
    "train_all_scaled = pd.DataFrame(scaler.transform(train_all_tmp), columns=train_all_tmp.columns)\n",
    "test_all_scaled = pd.DataFrame(scaler.transform(test_all_tmp), columns=test_all_tmp.columns)"
   ]
  },
  {
   "cell_type": "code",
   "execution_count": 19,
   "metadata": {},
   "outputs": [
    {
     "name": "stdout",
     "output_type": "stream",
     "text": [
      "Accuracy: 98.31616481774961 %\n",
      "\n",
      "Classification Report:\n",
      "              precision    recall  f1-score   support\n",
      "\n",
      "           0       0.99      0.99      0.99     39909\n",
      "           1       0.15      0.09      0.12       475\n",
      "\n",
      "    accuracy                           0.98     40384\n",
      "   macro avg       0.57      0.54      0.55     40384\n",
      "weighted avg       0.98      0.98      0.98     40384\n",
      "\n",
      "Confusion Matrix:\n",
      "[[39659   250]\n",
      " [  430    45]]\n"
     ]
    },
    {
     "data": {
      "image/png": "[encoded data removed]",
      "text/plain": [
       "<Figure size 800x600 with 2 Axes>"
      ]
     },
     "metadata": {},
     "output_type": "display_data"
    }
   ],
   "source": [
    "from sklearn.svm import SVC\n",
    "\n",
    "# SVMモデルを定義して訓練します\n",
    "svm = SVC(kernel='rbf', C=1000, random_state=0) #linearは遅すぎ\n",
    "svm.fit(X_train_scaled, y_train)\n",
    "\n",
    "# テストデータで予測を行います\n",
    "y_pred = svm.predict(X_test_scaled)\n",
    "\n",
    "# 分類結果の評価\n",
    "print(\"Accuracy:\", accuracy_score(y_test, y_pred) * 100, \"%\")\n",
    "print(\"\\nClassification Report:\")\n",
    "print(classification_report(y_test, y_pred))\n",
    "\n",
    "cm = confusion_matrix(y_test, y_pred)\n",
    "print('Confusion Matrix:')\n",
    "print(cm)\n",
    "\n",
    "# 混同行列をヒートマップとして表示します\n",
    "plt.figure(figsize=(8, 6))\n",
    "sns.heatmap(cm, annot=True, cmap='Blues', fmt='g', cbar=True, square=True,\n",
    "            xticklabels=['Predicted 0', 'Predicted 1'],\n",
    "            yticklabels=['Actual 0', 'Actual 1'])\n",
    "plt.xlabel('Predicted Label')\n",
    "plt.ylabel('True Label')\n",
    "plt.title('Confusion Matrix')\n",
    "plt.show()\n",
    "\n",
    "\n"
   ]
  }
 ],
 "metadata": {
  "kernelspec": {
   "display_name": "Jupyter",
   "language": "python",
   "name": "python3"
  },
  "language_info": {
   "codemirror_mode": {
    "name": "ipython",
    "version": 3
   },
   "file_extension": ".py",
   "mimetype": "text/x-python",
   "name": "python",
   "nbconvert_exporter": "python",
   "pygments_lexer": "ipython3",
   "version": "3.12.4"
  }
 },
 "nbformat": 4,
 "nbformat_minor": 2
}
