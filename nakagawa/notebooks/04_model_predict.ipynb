{
 "cells": [
  {
   "cell_type": "markdown",
   "metadata": {},
   "source": [
    "02で前処理をしたデータの読み込みと03で学習したモデルを使って推論を行うためのnotebookです。  "
   ]
  },
  {
   "cell_type": "markdown",
   "metadata": {},
   "source": [
    "## 必要なライブラリのimport"
   ]
  },
  {
   "cell_type": "code",
   "execution_count": 50,
   "metadata": {},
   "outputs": [],
   "source": [
    "import numpy as np\n",
    "import pandas as pd\n",
    "import os\n",
    "import lightgbm as lgb\n",
    "from sklearn.metrics import root_mean_squared_error\n",
    "import pickle"
   ]
  },
  {
   "cell_type": "code",
   "execution_count": 51,
   "metadata": {},
   "outputs": [],
   "source": [
    "# windows\n",
    "if os.name == 'nt':\n",
    "    path = '../../../data/processed/'\n",
    "    modelpath = '../../src/models/nakagawa/'\n",
    "else:\n",
    "    if 'KAGGLE_DATA_PROXY_TOKEN' in os.environ.keys():\n",
    "        path = '/kaggle/input/processed/'\n"
   ]
  },
  {
   "cell_type": "markdown",
   "metadata": {},
   "source": [
    "# FIXME:\n",
    "PATHを修正すること！！！"
   ]
  },
  {
   "cell_type": "code",
   "execution_count": 52,
   "metadata": {},
   "outputs": [],
   "source": [
    "# FIXME: PATH\n",
    "train_X_path = os.path.join(path,'processed20240618_train_X.csv')\n",
    "test_X_path = os.path.join(path,'processed20240618_test_X.csv')\n",
    "train_y_path = os.path.join(path,'processed20240618_train_y.csv')\n",
    "test_y_path = os.path.join(path,'processed20240618_test_y.csv')\n",
    "train_path = os.path.join(path,'processed20240618_train.csv')\n",
    "test_path = os.path.join(path,'processed20240618_test.csv')"
   ]
  },
  {
   "cell_type": "code",
   "execution_count": 53,
   "metadata": {},
   "outputs": [],
   "source": [
    "# データの読み込み\n",
    "X_test = pd.read_csv(test_X_path)\n",
    "y_test = pd.read_csv(test_y_path)\n",
    "test = pd.read_csv(test_path)\n",
    "\n",
    "del X_test['target']\n"
   ]
  },
  {
   "cell_type": "markdown",
   "metadata": {},
   "source": [
    "## 保存されたモデルを使って予測を行う"
   ]
  },
  {
   "cell_type": "code",
   "execution_count": 54,
   "metadata": {},
   "outputs": [],
   "source": [
    "def predict_model(test_X,model_name,test_y=False,flg=False):\n",
    "    n_folds = 5\n",
    "    predictions = np.zeros(len(test_X))\n",
    "    features = [c for c in test_X.columns if c not in ['card_id', 'first_active_month']]\n",
    "\n",
    "    for fold_ in range(n_folds):\n",
    "        # モデルを読み込む\n",
    "        with open(f'{modelpath}{model_name}_{fold_}.pkl', 'rb') as f:\n",
    "            clf = pickle.load(f)\n",
    "\n",
    "        # モデルで予測を行う\n",
    "        fold_predictions = clf.predict(test_X[features])\n",
    "\n",
    "        # 予測結果を足し合わせる\n",
    "        predictions += fold_predictions\n",
    "\n",
    "    # 平均を取る\n",
    "    predictions /= n_folds\n",
    "    if flg == False:\n",
    "        # RMSEを計算する（テストデータに対して真の値がある場合）\n",
    "        # y_testが存在する場合に限り\n",
    "        score = root_mean_squared_error(test_y, predictions)\n",
    "        print(f'RMSE={score}')\n",
    "    return predictions"
   ]
  },
  {
   "cell_type": "markdown",
   "metadata": {},
   "source": [
    "# テストデータを予測する \n",
    "## ①train_Xモデルを用いてtestデータを予測してRMSEを出す\n",
    "## (モデルネーム確認すること！！)\n"
   ]
  },
  {
   "cell_type": "code",
   "execution_count": 55,
   "metadata": {},
   "outputs": [
    {
     "name": "stdout",
     "output_type": "stream",
     "text": [
      "RMSE=3.683587536936083\n",
      "[-0.77909236  0.119663   -0.16877793 ... -0.44612076  0.05208372\n",
      " -0.29031117]\n"
     ]
    }
   ],
   "source": [
    "print(predict_model(test_X=X_test,test_y=y_test,model_name='train_X_model_20240618'))"
   ]
  },
  {
   "cell_type": "markdown",
   "metadata": {},
   "source": [
    "## ②train_allモデルを用いてtestデータでの提出用の予測値を出す"
   ]
  },
  {
   "cell_type": "markdown",
   "metadata": {},
   "source": [
    "### 提出用ファイルの作成　(モデルネーム確認すること！！)"
   ]
  },
  {
   "cell_type": "code",
   "execution_count": 56,
   "metadata": {},
   "outputs": [],
   "source": [
    "sub_df = pd.DataFrame({\"card_id\":test[\"card_id\"].values})\n",
    "sub_df[\"target\"] = predict_model(test_X=test,model_name='train_all_model_20240618',flg=True)\n",
    "sub_df.to_csv(\"submit.csv\", index=False)"
   ]
  }
 ],
 "metadata": {
  "kernelspec": {
   "display_name": "Python 3",
   "language": "python",
   "name": "python3"
  },
  "language_info": {
   "codemirror_mode": {
    "name": "ipython",
    "version": 3
   },
   "file_extension": ".py",
   "mimetype": "text/x-python",
   "name": "python",
   "nbconvert_exporter": "python",
   "pygments_lexer": "ipython3",
   "version": "3.11.9"
  }
 },
 "nbformat": 4,
 "nbformat_minor": 2
}
